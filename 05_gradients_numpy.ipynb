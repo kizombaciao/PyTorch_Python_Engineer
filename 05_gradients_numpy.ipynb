{
 "cells": [
  {
   "cell_type": "code",
   "execution_count": 4,
   "metadata": {},
   "outputs": [],
   "source": [
    "import numpy as np"
   ]
  },
  {
   "cell_type": "code",
   "execution_count": 5,
   "metadata": {},
   "outputs": [
    {
     "output_type": "stream",
     "name": "stdout",
     "text": "(4,)\n(4,)\n"
    }
   ],
   "source": [
    "X = np.array([1, 2, 3, 4], dtype=np.float32)\n",
    "Y = np.array([2, 4, 6, 8], dtype=np.float32)\n",
    "w = 0.0\n",
    "print(X.shape)\n",
    "print(Y.shape)"
   ]
  },
  {
   "cell_type": "code",
   "execution_count": 6,
   "metadata": {},
   "outputs": [],
   "source": [
    "def forward(x):\n",
    "    return w * x"
   ]
  },
  {
   "cell_type": "code",
   "execution_count": 7,
   "metadata": {},
   "outputs": [],
   "source": [
    "def loss(y, y_pred):\n",
    "    return ((y_pred - y)**2).mean()"
   ]
  },
  {
   "cell_type": "code",
   "execution_count": 8,
   "metadata": {},
   "outputs": [],
   "source": [
    "def gradient(x, y, y_pred):\n",
    "    return np.dot(2*x, y_pred - y)"
   ]
  },
  {
   "cell_type": "code",
   "execution_count": 9,
   "metadata": {},
   "outputs": [
    {
     "output_type": "execute_result",
     "data": {
      "text/plain": "-60.0"
     },
     "metadata": {},
     "execution_count": 9
    }
   ],
   "source": [
    "#gradient(X, Y, [1, 2, 3, 4])"
   ]
  },
  {
   "cell_type": "code",
   "execution_count": 10,
   "metadata": {},
   "outputs": [
    {
     "output_type": "stream",
     "name": "stdout",
     "text": "Prediction before training: f(5) = 0.000\nPrediction before training: f(5) = [0. 0. 0. 0.]\n"
    }
   ],
   "source": [
    "print(f'Prediction before training: f(5) = {forward(5):.3f}')\n",
    "print(f'Prediction before training: f(5) = {forward(X)}')"
   ]
  },
  {
   "cell_type": "code",
   "execution_count": 11,
   "metadata": {},
   "outputs": [],
   "source": [
    "learning_rate = 0.01\n",
    "n_iters = 10"
   ]
  },
  {
   "cell_type": "code",
   "execution_count": 12,
   "metadata": {},
   "outputs": [
    {
     "output_type": "stream",
     "name": "stdout",
     "text": "epoch 1: w = 1.200 loss = 30.00000000 dw = -120.00000 y_pred = [0. 0. 0. 0.]\nepoch 2: w = 1.680 loss = 4.79999924 dw = -48.00000 y_pred = [1.2       2.4       3.6000001 4.8      ]\nepoch 3: w = 1.872 loss = 0.76800019 dw = -19.20000 y_pred = [1.68 3.36 5.04 6.72]\nepoch 4: w = 1.949 loss = 0.12288000 dw = -7.68000 y_pred = [1.872 3.744 5.616 7.488]\nepoch 5: w = 1.980 loss = 0.01966083 dw = -3.07200 y_pred = [1.9488 3.8976 5.8464 7.7952]\nepoch 6: w = 1.992 loss = 0.00314574 dw = -1.22880 y_pred = [1.97952 3.95904 5.93856 7.91808]\nepoch 7: w = 1.997 loss = 0.00050331 dw = -0.49152 y_pred = [1.991808  3.983616  5.9754243 7.967232 ]\nepoch 8: w = 1.999 loss = 0.00008053 dw = -0.19661 y_pred = [1.9967232 3.9934464 5.9901695 7.9868927]\nepoch 9: w = 1.999 loss = 0.00001288 dw = -0.07864 y_pred = [1.9986893 3.9973786 5.996068  7.994757 ]\nepoch 10: w = 2.000 loss = 0.00000206 dw = -0.03146 y_pred = [1.9994757 3.9989514 5.9984274 7.997903 ]\nPrediction after training: f(5) = 9.999\n"
    }
   ],
   "source": [
    "for epoch in range(n_iters):\n",
    "    y_pred = forward(X)\n",
    "    l = loss(Y, y_pred)\n",
    "    dw = gradient(X, Y, y_pred)\n",
    "    w -= learning_rate * dw\n",
    "    if epoch % 1 == 0:\n",
    "        print(f'epoch {epoch+1}: w = {w:.3f} loss = {l:.8f} dw = {dw:.5f} y_pred = {y_pred}')\n",
    "\n",
    "print(f'Prediction after training: f(5) = {forward(5):.3f}')"
   ]
  },
  {
   "cell_type": "code",
   "execution_count": null,
   "metadata": {},
   "outputs": [],
   "source": []
  }
 ],
 "metadata": {
  "kernelspec": {
   "name": "python38264bitenvpytorchvenvf69e972a549d49178d6b6325e29b5887",
   "display_name": "Python 3.8.2 64-bit ('env-pytorch': venv)"
  }
 },
 "nbformat": 4,
 "nbformat_minor": 4
}